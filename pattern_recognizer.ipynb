{
 "cells": [
  {
   "cell_type": "code",
   "execution_count": 2,
   "id": "occupational-discretion",
   "metadata": {},
   "outputs": [],
   "source": [
    "from pyspark.sql import SparkSession\n",
    "Spark=SparkSession.builder.master(\"local[*]\").appName('Pattern Recognizer Model').getOrCreate()"
   ]
  },
  {
   "cell_type": "code",
   "execution_count": 3,
   "id": "serial-roads",
   "metadata": {},
   "outputs": [],
   "source": [
    "#data=spark.read.csv('file:///home/chiranjib/spark_works/Pattern_Recognition/dataset/iris.csv',header=True,inferSchema=True)\n",
    "data=spark.read.csv('file:///home/chiranjib/spark_works/Pattern_Recognition/dataset/wine_modified.csv',header=True,inferSchema=True)\n",
    "#data=spark.read.csv('file:///home/chiranjib/spark_works/Pattern_Recognition/dataset/pima-indians-diabetes_modified.csv',header=True,inferSchema=True)"
   ]
  },
  {
   "cell_type": "code",
   "execution_count": 4,
   "id": "exotic-biotechnology",
   "metadata": {},
   "outputs": [
    {
     "data": {
      "text/plain": [
       "['Class',\n",
       " 'Alcohol',\n",
       " 'Malic_acid',\n",
       " 'Ash',\n",
       " 'Alcalinity_of_ash',\n",
       " 'Magnesium',\n",
       " 'Total_phenols',\n",
       " 'Flavanoids',\n",
       " 'Nonflavanoid_phenols',\n",
       " 'Proanthocyanins',\n",
       " 'Color_intensity',\n",
       " 'Hue',\n",
       " 'OD_of_diluted_wines',\n",
       " 'Proline']"
      ]
     },
     "execution_count": 4,
     "metadata": {},
     "output_type": "execute_result"
    }
   ],
   "source": [
    "data.columns"
   ]
  },
  {
   "cell_type": "code",
   "execution_count": 5,
   "id": "planned-advertiser",
   "metadata": {},
   "outputs": [
    {
     "name": "stdout",
     "output_type": "stream",
     "text": [
      "+-----+-------+----------+----+-----------------+---------+-------------+----------+--------------------+---------------+---------------+----+-------------------+-------+\n",
      "|Class|Alcohol|Malic_acid| Ash|Alcalinity_of_ash|Magnesium|Total_phenols|Flavanoids|Nonflavanoid_phenols|Proanthocyanins|Color_intensity| Hue|OD_of_diluted_wines|Proline|\n",
      "+-----+-------+----------+----+-----------------+---------+-------------+----------+--------------------+---------------+---------------+----+-------------------+-------+\n",
      "|    1|  14.23|      1.71|2.43|             15.6|      127|          2.8|      3.06|                0.28|           2.29|           5.64|1.04|               3.92|   1065|\n",
      "|    1|   13.2|      1.78|2.14|             11.2|      100|         2.65|      2.76|                0.26|           1.28|           4.38|1.05|                3.4|   1050|\n",
      "|    1|  13.16|      2.36|2.67|             18.6|      101|          2.8|      3.24|                 0.3|           2.81|           5.68|1.03|               3.17|   1185|\n",
      "|    1|  14.37|      1.95| 2.5|             16.8|      113|         3.85|      3.49|                0.24|           2.18|            7.8|0.86|               3.45|   1480|\n",
      "|    1|  13.24|      2.59|2.87|             21.0|      118|          2.8|      2.69|                0.39|           1.82|           4.32|1.04|               2.93|    735|\n",
      "+-----+-------+----------+----+-----------------+---------+-------------+----------+--------------------+---------------+---------------+----+-------------------+-------+\n",
      "only showing top 5 rows\n",
      "\n"
     ]
    }
   ],
   "source": [
    "data.show(5)"
   ]
  },
  {
   "cell_type": "code",
   "execution_count": 6,
   "id": "maritime-instrumentation",
   "metadata": {},
   "outputs": [],
   "source": [
    "from pyspark.ml.feature import VectorAssembler\n",
    "from pyspark.ml import Pipeline\n",
    "from pyspark.ml.classification import NaiveBayes\n",
    "from pyspark.ml.evaluation import MulticlassClassificationEvaluator\n",
    "from pyspark.sql.functions import *"
   ]
  },
  {
   "cell_type": "code",
   "execution_count": 7,
   "id": "imposed-running",
   "metadata": {},
   "outputs": [],
   "source": [
    "# for iris dataset........\n",
    "# update_column=(when(data.variety == \"Setosa\",0) \\\n",
    "#       .when(data.variety == \"Versicolor\",1) \\\n",
    "#       .when(data.variety == \"Virginica\",2))\n",
    "\n",
    "# updated_data=data.withColumn(\"variety\",update_column)\n",
    "# assembler=VectorAssembler(inputCols=updated_data.columns,outputCol='features')\n",
    "# assembled=assembler.transform(updated_data)\n",
    "\n",
    "\n",
    "# for wine dataset........\n",
    "update_column=(when(data.Class == 1,0) \\\n",
    "      .when(data.Class == 2,1) \\\n",
    "      .when(data.Class == 3,2))\n",
    "\n",
    "updated_data=data.withColumn(\"Class\",update_column)\n",
    "assembler=VectorAssembler(inputCols=updated_data.columns,outputCol='features')\n",
    "assembled=assembler.transform(updated_data)\n",
    "\n",
    "\n",
    "# for pima dataset........\n",
    "# assembler=VectorAssembler(inputCols=data.columns,outputCol='features')\n",
    "# assembled=assembler.transform(data)"
   ]
  },
  {
   "cell_type": "code",
   "execution_count": 8,
   "id": "blond-prince",
   "metadata": {},
   "outputs": [
    {
     "data": {
      "text/plain": [
       "(88, 90)"
      ]
     },
     "execution_count": 8,
     "metadata": {},
     "output_type": "execute_result"
    }
   ],
   "source": [
    "(train_set,test_set)=assembled.randomSplit([0.5,0.5])\n",
    "train_set.count(),test_set.count()"
   ]
  },
  {
   "cell_type": "code",
   "execution_count": 11,
   "id": "right-characteristic",
   "metadata": {},
   "outputs": [
    {
     "data": {
      "text/plain": [
       "(10, 78)"
      ]
     },
     "execution_count": 11,
     "metadata": {},
     "output_type": "execute_result"
    }
   ],
   "source": [
    "labeled_set,unlabeled_pool_set=train_set.randomSplit([0.1,0.9])\n",
    "labeled_set.count(),unlabeled_pool_set.count()"
   ]
  },
  {
   "cell_type": "code",
   "execution_count": 12,
   "id": "valid-mouth",
   "metadata": {},
   "outputs": [
    {
     "name": "stdout",
     "output_type": "stream",
     "text": [
      "Iteration 1 ...\n",
      "Accuracy : 79.16159000913798 unlabeled_set= 78\n",
      "Iteration 2 ...\n",
      "Accuracy : 71.03648611424136 unlabeled_set= 71\n",
      "Iteration 3 ...\n",
      "Accuracy : 82.11128640472792 unlabeled_set= 64\n",
      "Iteration 4 ...\n",
      "Accuracy : 92.25026980725404 unlabeled_set= 58\n",
      "Done!!\n"
     ]
    }
   ],
   "source": [
    "#NB=NaiveBayes(featuresCol='features',labelCol='variety',modelType='multinomial')\n",
    "NB=NaiveBayes(featuresCol='features',labelCol='Class',modelType='multinomial')\n",
    "i=1\n",
    "while True:\n",
    "    print(\"Iteration\",i,\"...\")\n",
    "    #pipeline=Pipeline(stages=[NB])\n",
    "    model=NB.fit(labeled_set)\n",
    "    predictions=model.transform(test_set)\n",
    "    #evaluator=MulticlassClassificationEvaluator(labelCol='variety',predictionCol='prediction')\n",
    "    evaluator=MulticlassClassificationEvaluator(labelCol='Class',predictionCol='prediction')\n",
    "    accuracy=evaluator.evaluate(predictions)\n",
    "    n=unlabeled_pool_set.count()\n",
    "    print(\"Accuracy :\",accuracy*100,\"unlabeled_set=\",n)\n",
    "    if accuracy*100<90 and n>0 :\n",
    "        addition=unlabeled_pool_set.sample(False,0.10)\n",
    "        labeled_set=labeled_set.union(addition)\n",
    "        unlabeled_pool_set=unlabeled_pool_set.subtract(addition)\n",
    "    else:\n",
    "        break\n",
    "    i+=1\n",
    "print(\"Done!!\")"
   ]
  },
  {
   "cell_type": "code",
   "execution_count": 11,
   "id": "designed-relief",
   "metadata": {},
   "outputs": [],
   "source": []
  },
  {
   "cell_type": "code",
   "execution_count": null,
   "id": "precise-collar",
   "metadata": {},
   "outputs": [],
   "source": []
  }
 ],
 "metadata": {
  "kernelspec": {
   "display_name": "Python 3",
   "language": "python",
   "name": "python3"
  },
  "language_info": {
   "codemirror_mode": {
    "name": "ipython",
    "version": 3
   },
   "file_extension": ".py",
   "mimetype": "text/x-python",
   "name": "python",
   "nbconvert_exporter": "python",
   "pygments_lexer": "ipython3",
   "version": "3.6.9"
  }
 },
 "nbformat": 4,
 "nbformat_minor": 5
}
